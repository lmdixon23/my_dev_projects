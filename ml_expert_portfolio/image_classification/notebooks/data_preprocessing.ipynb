import tensorflow as tf
import matplotlib.pyplot as plt
from tensorflow.keras.preprocessing.image import ImageDataGenerator

# Example code to load and visualize data
data_dir = 'path/to/your/data'  # Modify as needed
img_size = (224, 224)

datagen = ImageDataGenerator(rescale=1./255, validation_split=0.2)

train_data = datagen.flow_from_directory(data_dir, target_size=img_size, batch_size=32, class_mode='categorical', subset='training')
val_data = datagen.flow_from_directory(data_dir, target_size=img_size, batch_size=32, class_mode='categorical', subset='validation')

# Visualize some examples
images, labels = next(train_data)
fig, axes = plt.subplots(1, 5, figsize=(15, 15))
axes = axes.flatten()
for img, ax in zip(images, axes):
    ax.imshow(img)
    ax.axis('off')
plt.tight_layout()
plt.show()
