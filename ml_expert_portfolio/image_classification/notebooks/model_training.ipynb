import tensorflow as tf
from tensorflow.keras.callbacks import ModelCheckpoint, EarlyStopping
from src.model import create_model
from src.data_loader import load_data

# Connect to TPU
resolver = tf.distribute.cluster_resolver.TPUClusterResolver()
tf.config.experimental_connect_to_cluster(resolver)
tf.tpu.experimental.initialize_tpu_system(resolver)
strategy = tf.distribute.TPUStrategy(resolver)

# Load data
train_data, val_data = load_data()

# Create model within TPU strategy scope
with strategy.scope():
    model = create_model(num_classes=train_data.num_classes)
    model.compile(optimizer='adam', loss='categorical_crossentropy', metrics=['accuracy'])

# Define callbacks
checkpoint = ModelCheckpoint('model.keras', save_best_only=True, monitor='val_loss')
early_stopping = EarlyStopping(monitor='val_loss', patience=5)

# Train model
model.fit(train_data, epochs=20, validation_data=val_data, callbacks=[checkpoint, early_stopping])

# Save model to Google Drive or download manually
from google.colab import drive
drive.mount('/content/drive')
model.save('/content/drive/MyDrive/model.keras')
